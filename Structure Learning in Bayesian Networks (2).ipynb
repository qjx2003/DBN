{
 "cells": [
  {
   "cell_type": "markdown",
   "metadata": {},
   "source": [
    "# Structure Learning in Bayesian Networks"
   ]
  },
  {
   "cell_type": "markdown",
   "metadata": {},
   "source": [
    "In this notebook, we show a few examples of Causal Discovery or Structure Learning in pgmpy. pgmpy currently has the following algorithm for causal discovery:\n",
    "\n",
    "1. **PC**: Has $3$ variants original, stable, and parallel. PC is a constraint-based algorithm that utilizes Conditional Independence tests to construct the model.\n",
    "2. **Hill-Climb Search**: Hill-Climb Search is a greedy optimization-based algorithm that makes iterative local changes to the model structure such that it improves the overall score of the model.\n",
    "3. **Greedy Equivalence Search (GES)**: Another score-based method that makes greedy modifications to the model to improve its score iteratively.\n",
    "4. **ExpertInLoop**: An iterative algorithm that combines Conditional Independence testing with expert knowledge. The user or an LLM can act as the expert.\n",
    "5. **Exhaustive Search**: Exhaustive search iterates over all possible network structures on the given variables to find the most optimal one. As it tries to enumerate all possible network structures, it is intractable when the number of variables in the data is large.\n",
    "\n",
    "The following Conditional Independence Tests are available to use with PC algorithm.\n",
    "1. **Discrete Data**: When all variables are discrete/categorical.\n",
    "    1. **Chi-square test**: `ci_test=\"chi_square\"`\n",
    "    2. **G-squared**: `ci_test=\"g_sq\"`\n",
    "    3. **Log-likelihood**: Is equivalent to G-squared test. `ci_test=\"log_likelihood`\n",
    "2. **Continuous Data**: When all variables are continuous/numerical.\n",
    "    1. **Partial Correlation**: `ci_test=\"pearsonr\"`\n",
    "3. **Mixed Data**: When there is a mix of categorical and continuous variables.\n",
    "    1. **Pillai**: `ci_test=\"pillai\"`\n",
    "\n",
    "For Hill-Climb, Exhausitive Search, and GES the following scoring methods can be used:\n",
    "1. **Discrete Data**: When all variables are discrete/categorical. \n",
    "    1. **BIC Score**: `scoring_method=\"bic-d\"`\n",
    "    2. **AIC Score**: `scoring_method=\"aic-d\"`\n",
    "    3. **K2 Score**: `scoring_method=\"k2\"`\n",
    "    4. **BDeU Score**: `scoring_method=\"bdeu\"`\n",
    "    5. **BDs Score**: `scoring_method=\"bds\"`\n",
    "2. **Continuous Data**: When all variables are continuous/numerical.\n",
    "    1. **Log-Likelihood**: `scoring_method=\"ll-g\"`\n",
    "    2. **AIC**: `scoring_method=\"aic-g\"`\n",
    "    3. **BIC**: `scoring_method=\"bic-g\"`\n",
    "3. **Mixed Data**: When there is a mix of discrete and continuous variables.\n",
    "    1. **AIC**: `scoring_method=\"aic-cg\"`\n",
    "    2. **BIC**: `scoring_method=\"bic-cg\"`"
   ]
  },
  {
   "cell_type": "markdown",
   "metadata": {},
   "source": [
    "## 0. Simulate some sample datasets"
   ]
  },
  {
   "cell_type": "code",
   "execution_count": 1,
   "metadata": {},
   "outputs": [
    {
     "name": "stderr",
     "output_type": "stream",
     "text": [
      "c:\\Users\\jxq61\\AppData\\Local\\Programs\\Python\\Python313\\Lib\\site-packages\\tqdm\\auto.py:21: TqdmWarning: IProgress not found. Please update jupyter and ipywidgets. See https://ipywidgets.readthedocs.io/en/stable/user_install.html\n",
      "  from .autonotebook import tqdm as notebook_tqdm\n"
     ]
    }
   ],
   "source": [
    "from itertools import combinations\n",
    "\n",
    "import networkx as nx\n",
    "import numpy as np\n",
    "from sklearn.metrics import f1_score\n",
    "\n",
    "from pgmpy.estimators import PC, HillClimbSearch, GES\n",
    "from pgmpy.utils import get_example_model\n",
    "from pgmpy.metrics import SHD"
   ]
  },
  {
   "cell_type": "code",
   "execution_count": 2,
   "metadata": {},
   "outputs": [
    {
     "name": "stderr",
     "output_type": "stream",
     "text": [
      "Generating for node: BP:   0%|          | 0/37 [00:00<?, ?it/s]          WARNING:pgmpy:Probability values don't exactly sum to 1. Differ by: -2.220446049250313e-16. Adjusting values.\n",
      "Generating for node: BP: 100%|██████████| 37/37 [00:00<00:00, 463.02it/s]\n"
     ]
    },
    {
     "data": {
      "text/html": [
       "<div>\n",
       "<style scoped>\n",
       "    .dataframe tbody tr th:only-of-type {\n",
       "        vertical-align: middle;\n",
       "    }\n",
       "\n",
       "    .dataframe tbody tr th {\n",
       "        vertical-align: top;\n",
       "    }\n",
       "\n",
       "    .dataframe thead th {\n",
       "        text-align: right;\n",
       "    }\n",
       "</style>\n",
       "<table border=\"1\" class=\"dataframe\">\n",
       "  <thead>\n",
       "    <tr style=\"text-align: right;\">\n",
       "      <th></th>\n",
       "      <th>b1191</th>\n",
       "      <th>cspG</th>\n",
       "      <th>eutG</th>\n",
       "      <th>fixC</th>\n",
       "      <th>cspA</th>\n",
       "      <th>yecO</th>\n",
       "      <th>yedE</th>\n",
       "      <th>sucA</th>\n",
       "      <th>cchB</th>\n",
       "      <th>yceP</th>\n",
       "      <th>...</th>\n",
       "      <th>dnaK</th>\n",
       "      <th>folK</th>\n",
       "      <th>ycgX</th>\n",
       "      <th>lacZ</th>\n",
       "      <th>nuoM</th>\n",
       "      <th>dnaG</th>\n",
       "      <th>b1583</th>\n",
       "      <th>mopB</th>\n",
       "      <th>yaeM</th>\n",
       "      <th>ftsJ</th>\n",
       "    </tr>\n",
       "  </thead>\n",
       "  <tbody>\n",
       "    <tr>\n",
       "      <th>0</th>\n",
       "      <td>0.236195</td>\n",
       "      <td>2.288765</td>\n",
       "      <td>1.905775</td>\n",
       "      <td>0.789714</td>\n",
       "      <td>-0.770087</td>\n",
       "      <td>2.891742</td>\n",
       "      <td>-2.529511</td>\n",
       "      <td>-2.686661</td>\n",
       "      <td>0.602710</td>\n",
       "      <td>2.514428</td>\n",
       "      <td>...</td>\n",
       "      <td>-1.778680</td>\n",
       "      <td>-0.896765</td>\n",
       "      <td>-1.707150</td>\n",
       "      <td>-0.121400</td>\n",
       "      <td>-1.896694</td>\n",
       "      <td>-0.798081</td>\n",
       "      <td>1.854076</td>\n",
       "      <td>-1.826730</td>\n",
       "      <td>2.907879</td>\n",
       "      <td>-0.871770</td>\n",
       "    </tr>\n",
       "    <tr>\n",
       "      <th>1</th>\n",
       "      <td>0.597559</td>\n",
       "      <td>1.717203</td>\n",
       "      <td>2.225777</td>\n",
       "      <td>2.030102</td>\n",
       "      <td>-0.224709</td>\n",
       "      <td>1.267222</td>\n",
       "      <td>-0.945631</td>\n",
       "      <td>-2.241290</td>\n",
       "      <td>1.511655</td>\n",
       "      <td>1.435793</td>\n",
       "      <td>...</td>\n",
       "      <td>0.628984</td>\n",
       "      <td>1.319956</td>\n",
       "      <td>0.051735</td>\n",
       "      <td>-1.379600</td>\n",
       "      <td>-1.885674</td>\n",
       "      <td>-0.205963</td>\n",
       "      <td>1.350436</td>\n",
       "      <td>1.381979</td>\n",
       "      <td>2.378217</td>\n",
       "      <td>1.940105</td>\n",
       "    </tr>\n",
       "    <tr>\n",
       "      <th>2</th>\n",
       "      <td>0.107336</td>\n",
       "      <td>3.282894</td>\n",
       "      <td>2.911951</td>\n",
       "      <td>0.640488</td>\n",
       "      <td>2.746937</td>\n",
       "      <td>2.670128</td>\n",
       "      <td>-1.908708</td>\n",
       "      <td>-3.672664</td>\n",
       "      <td>2.501395</td>\n",
       "      <td>3.494058</td>\n",
       "      <td>...</td>\n",
       "      <td>-4.388125</td>\n",
       "      <td>-2.653371</td>\n",
       "      <td>-4.694778</td>\n",
       "      <td>2.280046</td>\n",
       "      <td>0.171380</td>\n",
       "      <td>-3.482192</td>\n",
       "      <td>2.592541</td>\n",
       "      <td>-3.607053</td>\n",
       "      <td>4.305313</td>\n",
       "      <td>-2.743530</td>\n",
       "    </tr>\n",
       "    <tr>\n",
       "      <th>3</th>\n",
       "      <td>2.235661</td>\n",
       "      <td>1.847715</td>\n",
       "      <td>1.155679</td>\n",
       "      <td>3.053696</td>\n",
       "      <td>0.524370</td>\n",
       "      <td>1.801155</td>\n",
       "      <td>-2.486285</td>\n",
       "      <td>-1.888167</td>\n",
       "      <td>3.318210</td>\n",
       "      <td>0.646790</td>\n",
       "      <td>...</td>\n",
       "      <td>-1.456752</td>\n",
       "      <td>-0.185038</td>\n",
       "      <td>-0.892459</td>\n",
       "      <td>0.943415</td>\n",
       "      <td>-0.940696</td>\n",
       "      <td>-0.763824</td>\n",
       "      <td>1.684960</td>\n",
       "      <td>-1.228802</td>\n",
       "      <td>2.712333</td>\n",
       "      <td>-0.792233</td>\n",
       "    </tr>\n",
       "    <tr>\n",
       "      <th>4</th>\n",
       "      <td>2.052552</td>\n",
       "      <td>2.225124</td>\n",
       "      <td>1.405402</td>\n",
       "      <td>3.501185</td>\n",
       "      <td>-0.303648</td>\n",
       "      <td>2.324970</td>\n",
       "      <td>-2.131498</td>\n",
       "      <td>-2.805020</td>\n",
       "      <td>3.001945</td>\n",
       "      <td>0.853664</td>\n",
       "      <td>...</td>\n",
       "      <td>3.319358</td>\n",
       "      <td>3.650548</td>\n",
       "      <td>2.462981</td>\n",
       "      <td>3.651905</td>\n",
       "      <td>-0.147705</td>\n",
       "      <td>2.492869</td>\n",
       "      <td>3.388589</td>\n",
       "      <td>2.710324</td>\n",
       "      <td>3.450587</td>\n",
       "      <td>2.861755</td>\n",
       "    </tr>\n",
       "  </tbody>\n",
       "</table>\n",
       "<p>5 rows × 46 columns</p>\n",
       "</div>"
      ],
      "text/plain": [
       "      b1191      cspG      eutG      fixC      cspA      yecO      yedE  \\\n",
       "0  0.236195  2.288765  1.905775  0.789714 -0.770087  2.891742 -2.529511   \n",
       "1  0.597559  1.717203  2.225777  2.030102 -0.224709  1.267222 -0.945631   \n",
       "2  0.107336  3.282894  2.911951  0.640488  2.746937  2.670128 -1.908708   \n",
       "3  2.235661  1.847715  1.155679  3.053696  0.524370  1.801155 -2.486285   \n",
       "4  2.052552  2.225124  1.405402  3.501185 -0.303648  2.324970 -2.131498   \n",
       "\n",
       "       sucA      cchB      yceP  ...      dnaK      folK      ycgX      lacZ  \\\n",
       "0 -2.686661  0.602710  2.514428  ... -1.778680 -0.896765 -1.707150 -0.121400   \n",
       "1 -2.241290  1.511655  1.435793  ...  0.628984  1.319956  0.051735 -1.379600   \n",
       "2 -3.672664  2.501395  3.494058  ... -4.388125 -2.653371 -4.694778  2.280046   \n",
       "3 -1.888167  3.318210  0.646790  ... -1.456752 -0.185038 -0.892459  0.943415   \n",
       "4 -2.805020  3.001945  0.853664  ...  3.319358  3.650548  2.462981  3.651905   \n",
       "\n",
       "       nuoM      dnaG     b1583      mopB      yaeM      ftsJ  \n",
       "0 -1.896694 -0.798081  1.854076 -1.826730  2.907879 -0.871770  \n",
       "1 -1.885674 -0.205963  1.350436  1.381979  2.378217  1.940105  \n",
       "2  0.171380 -3.482192  2.592541 -3.607053  4.305313 -2.743530  \n",
       "3 -0.940696 -0.763824  1.684960 -1.228802  2.712333 -0.792233  \n",
       "4 -0.147705  2.492869  3.388589  2.710324  3.450587  2.861755  \n",
       "\n",
       "[5 rows x 46 columns]"
      ]
     },
     "execution_count": 2,
     "metadata": {},
     "output_type": "execute_result"
    }
   ],
   "source": [
    "# Discrete variable dataset\n",
    "alarm_model = get_example_model(\"alarm\")\n",
    "alarm_samples = alarm_model.simulate(int(1e3))\n",
    "alarm_samples.head()\n",
    "\n",
    "# Continuous variable dataset\n",
    "ecoli_model = get_example_model(\"ecoli70\")\n",
    "ecoli_samples = ecoli_model.simulate(int(1e3))\n",
    "ecoli_samples.head()"
   ]
  },
  {
   "cell_type": "code",
   "execution_count": 3,
   "metadata": {},
   "outputs": [
    {
     "data": {
      "text/html": [
       "<div>\n",
       "<style scoped>\n",
       "    .dataframe tbody tr th:only-of-type {\n",
       "        vertical-align: middle;\n",
       "    }\n",
       "\n",
       "    .dataframe tbody tr th {\n",
       "        vertical-align: top;\n",
       "    }\n",
       "\n",
       "    .dataframe thead th {\n",
       "        text-align: right;\n",
       "    }\n",
       "</style>\n",
       "<table border=\"1\" class=\"dataframe\">\n",
       "  <thead>\n",
       "    <tr style=\"text-align: right;\">\n",
       "      <th></th>\n",
       "      <th>KINKEDTUBE</th>\n",
       "      <th>FIO2</th>\n",
       "      <th>STROKEVOLUME</th>\n",
       "      <th>HRSAT</th>\n",
       "      <th>HRBP</th>\n",
       "      <th>CVP</th>\n",
       "      <th>ERRCAUTER</th>\n",
       "      <th>VENTTUBE</th>\n",
       "      <th>EXPCO2</th>\n",
       "      <th>HREKG</th>\n",
       "      <th>...</th>\n",
       "      <th>BP</th>\n",
       "      <th>PCWP</th>\n",
       "      <th>MINVOL</th>\n",
       "      <th>VENTLUNG</th>\n",
       "      <th>MINVOLSET</th>\n",
       "      <th>INSUFFANESTH</th>\n",
       "      <th>ANAPHYLAXIS</th>\n",
       "      <th>VENTMACH</th>\n",
       "      <th>TPR</th>\n",
       "      <th>DISCONNECT</th>\n",
       "    </tr>\n",
       "  </thead>\n",
       "  <tbody>\n",
       "    <tr>\n",
       "      <th>0</th>\n",
       "      <td>FALSE</td>\n",
       "      <td>NORMAL</td>\n",
       "      <td>NORMAL</td>\n",
       "      <td>HIGH</td>\n",
       "      <td>HIGH</td>\n",
       "      <td>NORMAL</td>\n",
       "      <td>FALSE</td>\n",
       "      <td>LOW</td>\n",
       "      <td>LOW</td>\n",
       "      <td>HIGH</td>\n",
       "      <td>...</td>\n",
       "      <td>LOW</td>\n",
       "      <td>NORMAL</td>\n",
       "      <td>ZERO</td>\n",
       "      <td>ZERO</td>\n",
       "      <td>NORMAL</td>\n",
       "      <td>FALSE</td>\n",
       "      <td>FALSE</td>\n",
       "      <td>NORMAL</td>\n",
       "      <td>LOW</td>\n",
       "      <td>FALSE</td>\n",
       "    </tr>\n",
       "    <tr>\n",
       "      <th>1</th>\n",
       "      <td>FALSE</td>\n",
       "      <td>NORMAL</td>\n",
       "      <td>NORMAL</td>\n",
       "      <td>HIGH</td>\n",
       "      <td>HIGH</td>\n",
       "      <td>NORMAL</td>\n",
       "      <td>FALSE</td>\n",
       "      <td>LOW</td>\n",
       "      <td>LOW</td>\n",
       "      <td>HIGH</td>\n",
       "      <td>...</td>\n",
       "      <td>LOW</td>\n",
       "      <td>NORMAL</td>\n",
       "      <td>ZERO</td>\n",
       "      <td>ZERO</td>\n",
       "      <td>NORMAL</td>\n",
       "      <td>FALSE</td>\n",
       "      <td>FALSE</td>\n",
       "      <td>NORMAL</td>\n",
       "      <td>NORMAL</td>\n",
       "      <td>FALSE</td>\n",
       "    </tr>\n",
       "    <tr>\n",
       "      <th>2</th>\n",
       "      <td>FALSE</td>\n",
       "      <td>NORMAL</td>\n",
       "      <td>LOW</td>\n",
       "      <td>LOW</td>\n",
       "      <td>LOW</td>\n",
       "      <td>NORMAL</td>\n",
       "      <td>FALSE</td>\n",
       "      <td>LOW</td>\n",
       "      <td>LOW</td>\n",
       "      <td>LOW</td>\n",
       "      <td>...</td>\n",
       "      <td>LOW</td>\n",
       "      <td>NORMAL</td>\n",
       "      <td>ZERO</td>\n",
       "      <td>ZERO</td>\n",
       "      <td>NORMAL</td>\n",
       "      <td>FALSE</td>\n",
       "      <td>FALSE</td>\n",
       "      <td>NORMAL</td>\n",
       "      <td>NORMAL</td>\n",
       "      <td>FALSE</td>\n",
       "    </tr>\n",
       "    <tr>\n",
       "      <th>3</th>\n",
       "      <td>FALSE</td>\n",
       "      <td>NORMAL</td>\n",
       "      <td>NORMAL</td>\n",
       "      <td>LOW</td>\n",
       "      <td>LOW</td>\n",
       "      <td>LOW</td>\n",
       "      <td>FALSE</td>\n",
       "      <td>ZERO</td>\n",
       "      <td>LOW</td>\n",
       "      <td>LOW</td>\n",
       "      <td>...</td>\n",
       "      <td>NORMAL</td>\n",
       "      <td>NORMAL</td>\n",
       "      <td>HIGH</td>\n",
       "      <td>LOW</td>\n",
       "      <td>NORMAL</td>\n",
       "      <td>FALSE</td>\n",
       "      <td>FALSE</td>\n",
       "      <td>NORMAL</td>\n",
       "      <td>HIGH</td>\n",
       "      <td>TRUE</td>\n",
       "    </tr>\n",
       "    <tr>\n",
       "      <th>4</th>\n",
       "      <td>FALSE</td>\n",
       "      <td>NORMAL</td>\n",
       "      <td>NORMAL</td>\n",
       "      <td>HIGH</td>\n",
       "      <td>HIGH</td>\n",
       "      <td>NORMAL</td>\n",
       "      <td>FALSE</td>\n",
       "      <td>LOW</td>\n",
       "      <td>LOW</td>\n",
       "      <td>HIGH</td>\n",
       "      <td>...</td>\n",
       "      <td>HIGH</td>\n",
       "      <td>NORMAL</td>\n",
       "      <td>ZERO</td>\n",
       "      <td>ZERO</td>\n",
       "      <td>NORMAL</td>\n",
       "      <td>FALSE</td>\n",
       "      <td>FALSE</td>\n",
       "      <td>NORMAL</td>\n",
       "      <td>NORMAL</td>\n",
       "      <td>FALSE</td>\n",
       "    </tr>\n",
       "  </tbody>\n",
       "</table>\n",
       "<p>5 rows × 37 columns</p>\n",
       "</div>"
      ],
      "text/plain": [
       "  KINKEDTUBE    FIO2 STROKEVOLUME HRSAT  HRBP     CVP ERRCAUTER VENTTUBE  \\\n",
       "0      FALSE  NORMAL       NORMAL  HIGH  HIGH  NORMAL     FALSE      LOW   \n",
       "1      FALSE  NORMAL       NORMAL  HIGH  HIGH  NORMAL     FALSE      LOW   \n",
       "2      FALSE  NORMAL          LOW   LOW   LOW  NORMAL     FALSE      LOW   \n",
       "3      FALSE  NORMAL       NORMAL   LOW   LOW     LOW     FALSE     ZERO   \n",
       "4      FALSE  NORMAL       NORMAL  HIGH  HIGH  NORMAL     FALSE      LOW   \n",
       "\n",
       "  EXPCO2 HREKG  ...      BP    PCWP MINVOL VENTLUNG MINVOLSET INSUFFANESTH  \\\n",
       "0    LOW  HIGH  ...     LOW  NORMAL   ZERO     ZERO    NORMAL        FALSE   \n",
       "1    LOW  HIGH  ...     LOW  NORMAL   ZERO     ZERO    NORMAL        FALSE   \n",
       "2    LOW   LOW  ...     LOW  NORMAL   ZERO     ZERO    NORMAL        FALSE   \n",
       "3    LOW   LOW  ...  NORMAL  NORMAL   HIGH      LOW    NORMAL        FALSE   \n",
       "4    LOW  HIGH  ...    HIGH  NORMAL   ZERO     ZERO    NORMAL        FALSE   \n",
       "\n",
       "  ANAPHYLAXIS VENTMACH     TPR DISCONNECT  \n",
       "0       FALSE   NORMAL     LOW      FALSE  \n",
       "1       FALSE   NORMAL  NORMAL      FALSE  \n",
       "2       FALSE   NORMAL  NORMAL      FALSE  \n",
       "3       FALSE   NORMAL    HIGH       TRUE  \n",
       "4       FALSE   NORMAL  NORMAL      FALSE  \n",
       "\n",
       "[5 rows x 37 columns]"
      ]
     },
     "execution_count": 3,
     "metadata": {},
     "output_type": "execute_result"
    }
   ],
   "source": [
    "alarm_samples.head()"
   ]
  },
  {
   "cell_type": "code",
   "execution_count": 4,
   "metadata": {},
   "outputs": [],
   "source": [
    "# Function to evaluate the learned model structures.\n",
    "def get_f1_score(estimated_model, true_model):\n",
    "    nodes = estimated_model.nodes()\n",
    "    est_adj = nx.to_numpy_array(\n",
    "        estimated_model.to_undirected(), nodelist=nodes, weight=None\n",
    "    )\n",
    "    true_adj = nx.to_numpy_array(\n",
    "        true_model.to_undirected(), nodelist=nodes, weight=None\n",
    "    )\n",
    "\n",
    "    f1 = f1_score(np.ravel(true_adj), np.ravel(est_adj))\n",
    "    print(\"F1-score for the model skeleton: \", f1)"
   ]
  },
  {
   "cell_type": "markdown",
   "metadata": {},
   "source": [
    "## 1. PC algorithm"
   ]
  },
  {
   "cell_type": "code",
   "execution_count": 5,
   "metadata": {},
   "outputs": [
    {
     "name": "stderr",
     "output_type": "stream",
     "text": [
      "INFO:pgmpy: Datatype (N=numerical, C=Categorical Unordered, O=Categorical Ordered) inferred from data: \n",
      " {'KINKEDTUBE': 'C', 'FIO2': 'C', 'STROKEVOLUME': 'C', 'HRSAT': 'C', 'HRBP': 'C', 'CVP': 'C', 'ERRCAUTER': 'C', 'VENTTUBE': 'C', 'EXPCO2': 'C', 'HREKG': 'C', 'LVFAILURE': 'C', 'PAP': 'C', 'CO': 'C', 'ERRLOWOUTPUT': 'C', 'CATECHOL': 'C', 'PULMEMBOLUS': 'C', 'INTUBATION': 'C', 'SAO2': 'C', 'LVEDVOLUME': 'C', 'SHUNT': 'C', 'VENTALV': 'C', 'HYPOVOLEMIA': 'C', 'PRESS': 'C', 'ARTCO2': 'C', 'HISTORY': 'C', 'PVSAT': 'C', 'HR': 'C', 'BP': 'C', 'PCWP': 'C', 'MINVOL': 'C', 'VENTLUNG': 'C', 'MINVOLSET': 'C', 'INSUFFANESTH': 'C', 'ANAPHYLAXIS': 'C', 'VENTMACH': 'C', 'TPR': 'C', 'DISCONNECT': 'C'}\n",
      "Working for n conditional variables: 5: 100%|██████████| 5/5 [00:07<00:00,  1.43s/it]"
     ]
    },
    {
     "name": "stdout",
     "output_type": "stream",
     "text": [
      "F1-score for the model skeleton:  0.8051948051948052\n"
     ]
    },
    {
     "name": "stderr",
     "output_type": "stream",
     "text": [
      "\n"
     ]
    }
   ],
   "source": [
    "# Learning the discrete variable alarm model back\n",
    "\n",
    "est = PC(data=alarm_samples)\n",
    "estimated_model = est.estimate(ci_test='chi_square', variant=\"stable\", max_cond_vars=4, return_type='dag')\n",
    "get_f1_score(estimated_model, alarm_model)"
   ]
  },
  {
   "cell_type": "code",
   "execution_count": 11,
   "metadata": {},
   "outputs": [],
   "source": [
    "\n",
    "import matplotlib.pyplot as plt\n"
   ]
  },
  {
   "cell_type": "code",
   "execution_count": 12,
   "metadata": {},
   "outputs": [
    {
     "data": {
      "image/png": "[encoded data removed]",
      "text/plain": [
       "<Figure size 640x480 with 1 Axes>"
      ]
     },
     "metadata": {},
     "output_type": "display_data"
    }
   ],
   "source": [
    "# 获取边列表\n",
    "edges = list(estimated_model.edges())\n",
    "\n",
    "# 创建有向图\n",
    "G = nx.DiGraph()\n",
    "G.add_edges_from(edges)\n",
    "\n",
    "# 计算节点布局\n",
    "pos = nx.spring_layout(G)\n",
    "\n",
    "# 绘制图形\n",
    "nx.draw(G, pos, with_labels=True, node_size=2000, node_color='lightblue', arrowsize=20)\n",
    "plt.title(\"Learned Bayesian Network Structure\")\n",
    "plt.show()\n"
   ]
  },
  {
   "cell_type": "code",
   "execution_count": 6,
   "metadata": {},
   "outputs": [
    {
     "name": "stderr",
     "output_type": "stream",
     "text": [
      "INFO:pgmpy: Datatype (N=numerical, C=Categorical Unordered, O=Categorical Ordered) inferred from data: \n",
      " {'b1191': 'N', 'cspG': 'N', 'eutG': 'N', 'fixC': 'N', 'cspA': 'N', 'yecO': 'N', 'yedE': 'N', 'sucA': 'N', 'cchB': 'N', 'yceP': 'N', 'ygbD': 'N', 'yjbO': 'N', 'yfiA': 'N', 'lpdA': 'N', 'pspB': 'N', 'atpG': 'N', 'dnaJ': 'N', 'flgD': 'N', 'gltA': 'N', 'sucD': 'N', 'tnaA': 'N', 'ygcE': 'N', 'yhdM': 'N', 'ibpB': 'N', 'yfaD': 'N', 'hupB': 'N', 'pspA': 'N', 'asnA': 'N', 'atpD': 'N', 'nmpC': 'N', 'icdA': 'N', 'lacA': 'N', 'yheI': 'N', 'aceB': 'N', 'lacY': 'N', 'b1963': 'N', 'dnaK': 'N', 'folK': 'N', 'ycgX': 'N', 'lacZ': 'N', 'nuoM': 'N', 'dnaG': 'N', 'b1583': 'N', 'mopB': 'N', 'yaeM': 'N', 'ftsJ': 'N'}\n",
      "Working for n conditional variables: 5: 100%|██████████| 5/5 [00:27<00:00,  4.28s/it]INFO:pgmpy:Reached maximum number of allowed conditional variables. Exiting\n",
      "Working for n conditional variables: 5: 100%|██████████| 5/5 [00:27<00:00,  5.50s/it]"
     ]
    },
    {
     "name": "stdout",
     "output_type": "stream",
     "text": [
      "F1-score for the model skeleton:  0.628099173553719\n"
     ]
    },
    {
     "name": "stderr",
     "output_type": "stream",
     "text": [
      "\n"
     ]
    }
   ],
   "source": [
    "# Learning the continuous variable ecoli model back\n",
    "\n",
    "est = PC(data=ecoli_samples)\n",
    "estimated_model = est.estimate(ci_test='pearsonr', variant=\"orig\", max_cond_vars=4, return_type='dag')\n",
    "get_f1_score(estimated_model, ecoli_model)"
   ]
  },
  {
   "cell_type": "markdown",
   "metadata": {},
   "source": [
    "## 2. Hill-Climb Search Algorithm"
   ]
  },
  {
   "cell_type": "code",
   "execution_count": 6,
   "metadata": {},
   "outputs": [
    {
     "name": "stderr",
     "output_type": "stream",
     "text": [
      "INFO:pgmpy: Datatype (N=numerical, C=Categorical Unordered, O=Categorical Ordered) inferred from data: \n",
      " {'INTUBATION': 'C', 'ANAPHYLAXIS': 'C', 'VENTLUNG': 'C', 'HISTORY': 'C', 'LVEDVOLUME': 'C', 'VENTMACH': 'C', 'TPR': 'C', 'MINVOL': 'C', 'VENTTUBE': 'C', 'HRBP': 'C', 'BP': 'C', 'PAP': 'C', 'PULMEMBOLUS': 'C', 'DISCONNECT': 'C', 'ERRLOWOUTPUT': 'C', 'HYPOVOLEMIA': 'C', 'CVP': 'C', 'HREKG': 'C', 'CO': 'C', 'PRESS': 'C', 'HRSAT': 'C', 'CATECHOL': 'C', 'EXPCO2': 'C', 'PVSAT': 'C', 'ARTCO2': 'C', 'LVFAILURE': 'C', 'KINKEDTUBE': 'C', 'VENTALV': 'C', 'FIO2': 'C', 'SHUNT': 'C', 'PCWP': 'C', 'SAO2': 'C', 'HR': 'C', 'MINVOLSET': 'C', 'STROKEVOLUME': 'C', 'INSUFFANESTH': 'C', 'ERRCAUTER': 'C'}\n",
      "INFO:pgmpy: Datatype (N=numerical, C=Categorical Unordered, O=Categorical Ordered) inferred from data: \n",
      " {'INTUBATION': 'C', 'ANAPHYLAXIS': 'C', 'VENTLUNG': 'C', 'HISTORY': 'C', 'LVEDVOLUME': 'C', 'VENTMACH': 'C', 'TPR': 'C', 'MINVOL': 'C', 'VENTTUBE': 'C', 'HRBP': 'C', 'BP': 'C', 'PAP': 'C', 'PULMEMBOLUS': 'C', 'DISCONNECT': 'C', 'ERRLOWOUTPUT': 'C', 'HYPOVOLEMIA': 'C', 'CVP': 'C', 'HREKG': 'C', 'CO': 'C', 'PRESS': 'C', 'HRSAT': 'C', 'CATECHOL': 'C', 'EXPCO2': 'C', 'PVSAT': 'C', 'ARTCO2': 'C', 'LVFAILURE': 'C', 'KINKEDTUBE': 'C', 'VENTALV': 'C', 'FIO2': 'C', 'SHUNT': 'C', 'PCWP': 'C', 'SAO2': 'C', 'HR': 'C', 'MINVOLSET': 'C', 'STROKEVOLUME': 'C', 'INSUFFANESTH': 'C', 'ERRCAUTER': 'C'}\n",
      "INFO:pgmpy: Datatype (N=numerical, C=Categorical Unordered, O=Categorical Ordered) inferred from data: \n",
      " {'INTUBATION': 'C', 'ANAPHYLAXIS': 'C', 'VENTLUNG': 'C', 'HISTORY': 'C', 'LVEDVOLUME': 'C', 'VENTMACH': 'C', 'TPR': 'C', 'MINVOL': 'C', 'VENTTUBE': 'C', 'HRBP': 'C', 'BP': 'C', 'PAP': 'C', 'PULMEMBOLUS': 'C', 'DISCONNECT': 'C', 'ERRLOWOUTPUT': 'C', 'HYPOVOLEMIA': 'C', 'CVP': 'C', 'HREKG': 'C', 'CO': 'C', 'PRESS': 'C', 'HRSAT': 'C', 'CATECHOL': 'C', 'EXPCO2': 'C', 'PVSAT': 'C', 'ARTCO2': 'C', 'LVFAILURE': 'C', 'KINKEDTUBE': 'C', 'VENTALV': 'C', 'FIO2': 'C', 'SHUNT': 'C', 'PCWP': 'C', 'SAO2': 'C', 'HR': 'C', 'MINVOLSET': 'C', 'STROKEVOLUME': 'C', 'INSUFFANESTH': 'C', 'ERRCAUTER': 'C'}\n"
     ]
    },
    {
     "data": {
      "application/vnd.jupyter.widget-view+json": {
       "model_id": "fb1cfeeaedad4c6fad37acd97fa383b0",
       "version_major": 2,
       "version_minor": 0
      },
      "text/plain": [
       "  0%|          | 0/10000 [00:00<?, ?it/s]"
      ]
     },
     "metadata": {},
     "output_type": "display_data"
    },
    {
     "name": "stdout",
     "output_type": "stream",
     "text": [
      "F1-score for the model skeleton:  0.7719298245614035\n"
     ]
    }
   ],
   "source": [
    "# Learning the discrete variable alarm model back\n",
    "\n",
    "est = HillClimbSearch(data=alarm_samples)\n",
    "estimated_model = est.estimate(scoring_method=\"k2\", max_indegree=4, max_iter=int(1e4))\n",
    "get_f1_score(estimated_model, alarm_model)"
   ]
  },
  {
   "cell_type": "code",
   "execution_count": 7,
   "metadata": {},
   "outputs": [
    {
     "name": "stderr",
     "output_type": "stream",
     "text": [
      "INFO:pgmpy: Datatype (N=numerical, C=Categorical Unordered, O=Categorical Ordered) inferred from data: \n",
      " {'b1191': 'N', 'cspG': 'N', 'eutG': 'N', 'fixC': 'N', 'cspA': 'N', 'yecO': 'N', 'yedE': 'N', 'sucA': 'N', 'cchB': 'N', 'yceP': 'N', 'ygbD': 'N', 'yjbO': 'N', 'yfiA': 'N', 'lpdA': 'N', 'pspB': 'N', 'atpG': 'N', 'dnaJ': 'N', 'flgD': 'N', 'gltA': 'N', 'sucD': 'N', 'tnaA': 'N', 'ygcE': 'N', 'yhdM': 'N', 'ibpB': 'N', 'yfaD': 'N', 'hupB': 'N', 'pspA': 'N', 'asnA': 'N', 'atpD': 'N', 'nmpC': 'N', 'icdA': 'N', 'lacA': 'N', 'yheI': 'N', 'aceB': 'N', 'lacY': 'N', 'b1963': 'N', 'dnaK': 'N', 'folK': 'N', 'ycgX': 'N', 'lacZ': 'N', 'nuoM': 'N', 'dnaG': 'N', 'b1583': 'N', 'mopB': 'N', 'yaeM': 'N', 'ftsJ': 'N'}\n",
      "INFO:pgmpy: Datatype (N=numerical, C=Categorical Unordered, O=Categorical Ordered) inferred from data: \n",
      " {'b1191': 'N', 'cspG': 'N', 'eutG': 'N', 'fixC': 'N', 'cspA': 'N', 'yecO': 'N', 'yedE': 'N', 'sucA': 'N', 'cchB': 'N', 'yceP': 'N', 'ygbD': 'N', 'yjbO': 'N', 'yfiA': 'N', 'lpdA': 'N', 'pspB': 'N', 'atpG': 'N', 'dnaJ': 'N', 'flgD': 'N', 'gltA': 'N', 'sucD': 'N', 'tnaA': 'N', 'ygcE': 'N', 'yhdM': 'N', 'ibpB': 'N', 'yfaD': 'N', 'hupB': 'N', 'pspA': 'N', 'asnA': 'N', 'atpD': 'N', 'nmpC': 'N', 'icdA': 'N', 'lacA': 'N', 'yheI': 'N', 'aceB': 'N', 'lacY': 'N', 'b1963': 'N', 'dnaK': 'N', 'folK': 'N', 'ycgX': 'N', 'lacZ': 'N', 'nuoM': 'N', 'dnaG': 'N', 'b1583': 'N', 'mopB': 'N', 'yaeM': 'N', 'ftsJ': 'N'}\n",
      "INFO:pgmpy: Datatype (N=numerical, C=Categorical Unordered, O=Categorical Ordered) inferred from data: \n",
      " {'b1191': 'N', 'cspG': 'N', 'eutG': 'N', 'fixC': 'N', 'cspA': 'N', 'yecO': 'N', 'yedE': 'N', 'sucA': 'N', 'cchB': 'N', 'yceP': 'N', 'ygbD': 'N', 'yjbO': 'N', 'yfiA': 'N', 'lpdA': 'N', 'pspB': 'N', 'atpG': 'N', 'dnaJ': 'N', 'flgD': 'N', 'gltA': 'N', 'sucD': 'N', 'tnaA': 'N', 'ygcE': 'N', 'yhdM': 'N', 'ibpB': 'N', 'yfaD': 'N', 'hupB': 'N', 'pspA': 'N', 'asnA': 'N', 'atpD': 'N', 'nmpC': 'N', 'icdA': 'N', 'lacA': 'N', 'yheI': 'N', 'aceB': 'N', 'lacY': 'N', 'b1963': 'N', 'dnaK': 'N', 'folK': 'N', 'ycgX': 'N', 'lacZ': 'N', 'nuoM': 'N', 'dnaG': 'N', 'b1583': 'N', 'mopB': 'N', 'yaeM': 'N', 'ftsJ': 'N'}\n"
     ]
    },
    {
     "data": {
      "application/vnd.jupyter.widget-view+json": {
       "model_id": "5649aa3962c94e7aa2151c1e022d1545",
       "version_major": 2,
       "version_minor": 0
      },
      "text/plain": [
       "  0%|          | 0/10000 [00:00<?, ?it/s]"
      ]
     },
     "metadata": {},
     "output_type": "display_data"
    },
    {
     "name": "stdout",
     "output_type": "stream",
     "text": [
      "F1-score for the model skeleton:  0.7692307692307693\n"
     ]
    }
   ],
   "source": [
    "# Learning the continuous variable ecoli model back\n",
    "\n",
    "est = HillClimbSearch(data=ecoli_samples)\n",
    "estimated_model = est.estimate(scoring_method=\"bic-g\", max_indegree=4, max_iter=int(1e4))\n",
    "get_f1_score(estimated_model, ecoli_model)"
   ]
  },
  {
   "cell_type": "markdown",
   "metadata": {},
   "source": [
    "### 3. GES algorithm"
   ]
  },
  {
   "cell_type": "code",
   "execution_count": 9,
   "metadata": {},
   "outputs": [
    {
     "name": "stderr",
     "output_type": "stream",
     "text": [
      "INFO:pgmpy: Datatype (N=numerical, C=Categorical Unordered, O=Categorical Ordered) inferred from data: \n",
      " {'INTUBATION': 'C', 'ANAPHYLAXIS': 'C', 'VENTLUNG': 'C', 'HISTORY': 'C', 'LVEDVOLUME': 'C', 'VENTMACH': 'C', 'TPR': 'C', 'MINVOL': 'C', 'VENTTUBE': 'C', 'HRBP': 'C', 'BP': 'C', 'PAP': 'C', 'PULMEMBOLUS': 'C', 'DISCONNECT': 'C', 'ERRLOWOUTPUT': 'C', 'HYPOVOLEMIA': 'C', 'CVP': 'C', 'HREKG': 'C', 'CO': 'C', 'PRESS': 'C', 'HRSAT': 'C', 'CATECHOL': 'C', 'EXPCO2': 'C', 'PVSAT': 'C', 'ARTCO2': 'C', 'LVFAILURE': 'C', 'KINKEDTUBE': 'C', 'VENTALV': 'C', 'FIO2': 'C', 'SHUNT': 'C', 'PCWP': 'C', 'SAO2': 'C', 'HR': 'C', 'MINVOLSET': 'C', 'STROKEVOLUME': 'C', 'INSUFFANESTH': 'C', 'ERRCAUTER': 'C'}\n",
      "INFO:pgmpy: Datatype (N=numerical, C=Categorical Unordered, O=Categorical Ordered) inferred from data: \n",
      " {'INTUBATION': 'C', 'ANAPHYLAXIS': 'C', 'VENTLUNG': 'C', 'HISTORY': 'C', 'LVEDVOLUME': 'C', 'VENTMACH': 'C', 'TPR': 'C', 'MINVOL': 'C', 'VENTTUBE': 'C', 'HRBP': 'C', 'BP': 'C', 'PAP': 'C', 'PULMEMBOLUS': 'C', 'DISCONNECT': 'C', 'ERRLOWOUTPUT': 'C', 'HYPOVOLEMIA': 'C', 'CVP': 'C', 'HREKG': 'C', 'CO': 'C', 'PRESS': 'C', 'HRSAT': 'C', 'CATECHOL': 'C', 'EXPCO2': 'C', 'PVSAT': 'C', 'ARTCO2': 'C', 'LVFAILURE': 'C', 'KINKEDTUBE': 'C', 'VENTALV': 'C', 'FIO2': 'C', 'SHUNT': 'C', 'PCWP': 'C', 'SAO2': 'C', 'HR': 'C', 'MINVOLSET': 'C', 'STROKEVOLUME': 'C', 'INSUFFANESTH': 'C', 'ERRCAUTER': 'C'}\n",
      "INFO:pgmpy: Datatype (N=numerical, C=Categorical Unordered, O=Categorical Ordered) inferred from data: \n",
      " {'INTUBATION': 'C', 'ANAPHYLAXIS': 'C', 'VENTLUNG': 'C', 'HISTORY': 'C', 'LVEDVOLUME': 'C', 'VENTMACH': 'C', 'TPR': 'C', 'MINVOL': 'C', 'VENTTUBE': 'C', 'HRBP': 'C', 'BP': 'C', 'PAP': 'C', 'PULMEMBOLUS': 'C', 'DISCONNECT': 'C', 'ERRLOWOUTPUT': 'C', 'HYPOVOLEMIA': 'C', 'CVP': 'C', 'HREKG': 'C', 'CO': 'C', 'PRESS': 'C', 'HRSAT': 'C', 'CATECHOL': 'C', 'EXPCO2': 'C', 'PVSAT': 'C', 'ARTCO2': 'C', 'LVFAILURE': 'C', 'KINKEDTUBE': 'C', 'VENTALV': 'C', 'FIO2': 'C', 'SHUNT': 'C', 'PCWP': 'C', 'SAO2': 'C', 'HR': 'C', 'MINVOLSET': 'C', 'STROKEVOLUME': 'C', 'INSUFFANESTH': 'C', 'ERRCAUTER': 'C'}\n"
     ]
    },
    {
     "name": "stdout",
     "output_type": "stream",
     "text": [
      "F1-score for the model skeleton:  0.8444444444444444\n"
     ]
    }
   ],
   "source": [
    "# Learning the discrete variable alarm model back\n",
    "\n",
    "est = GES(data=alarm_samples)\n",
    "estimated_model = est.estimate(scoring_method=\"bic-d\")\n",
    "get_f1_score(estimated_model, alarm_model)"
   ]
  },
  {
   "cell_type": "code",
   "execution_count": 10,
   "metadata": {},
   "outputs": [
    {
     "name": "stderr",
     "output_type": "stream",
     "text": [
      "INFO:pgmpy: Datatype (N=numerical, C=Categorical Unordered, O=Categorical Ordered) inferred from data: \n",
      " {'b1191': 'N', 'cspG': 'N', 'eutG': 'N', 'fixC': 'N', 'cspA': 'N', 'yecO': 'N', 'yedE': 'N', 'sucA': 'N', 'cchB': 'N', 'yceP': 'N', 'ygbD': 'N', 'yjbO': 'N', 'yfiA': 'N', 'lpdA': 'N', 'pspB': 'N', 'atpG': 'N', 'dnaJ': 'N', 'flgD': 'N', 'gltA': 'N', 'sucD': 'N', 'tnaA': 'N', 'ygcE': 'N', 'yhdM': 'N', 'ibpB': 'N', 'yfaD': 'N', 'hupB': 'N', 'pspA': 'N', 'asnA': 'N', 'atpD': 'N', 'nmpC': 'N', 'icdA': 'N', 'lacA': 'N', 'yheI': 'N', 'aceB': 'N', 'lacY': 'N', 'b1963': 'N', 'dnaK': 'N', 'folK': 'N', 'ycgX': 'N', 'lacZ': 'N', 'nuoM': 'N', 'dnaG': 'N', 'b1583': 'N', 'mopB': 'N', 'yaeM': 'N', 'ftsJ': 'N'}\n",
      "INFO:pgmpy: Datatype (N=numerical, C=Categorical Unordered, O=Categorical Ordered) inferred from data: \n",
      " {'b1191': 'N', 'cspG': 'N', 'eutG': 'N', 'fixC': 'N', 'cspA': 'N', 'yecO': 'N', 'yedE': 'N', 'sucA': 'N', 'cchB': 'N', 'yceP': 'N', 'ygbD': 'N', 'yjbO': 'N', 'yfiA': 'N', 'lpdA': 'N', 'pspB': 'N', 'atpG': 'N', 'dnaJ': 'N', 'flgD': 'N', 'gltA': 'N', 'sucD': 'N', 'tnaA': 'N', 'ygcE': 'N', 'yhdM': 'N', 'ibpB': 'N', 'yfaD': 'N', 'hupB': 'N', 'pspA': 'N', 'asnA': 'N', 'atpD': 'N', 'nmpC': 'N', 'icdA': 'N', 'lacA': 'N', 'yheI': 'N', 'aceB': 'N', 'lacY': 'N', 'b1963': 'N', 'dnaK': 'N', 'folK': 'N', 'ycgX': 'N', 'lacZ': 'N', 'nuoM': 'N', 'dnaG': 'N', 'b1583': 'N', 'mopB': 'N', 'yaeM': 'N', 'ftsJ': 'N'}\n",
      "INFO:pgmpy: Datatype (N=numerical, C=Categorical Unordered, O=Categorical Ordered) inferred from data: \n",
      " {'b1191': 'N', 'cspG': 'N', 'eutG': 'N', 'fixC': 'N', 'cspA': 'N', 'yecO': 'N', 'yedE': 'N', 'sucA': 'N', 'cchB': 'N', 'yceP': 'N', 'ygbD': 'N', 'yjbO': 'N', 'yfiA': 'N', 'lpdA': 'N', 'pspB': 'N', 'atpG': 'N', 'dnaJ': 'N', 'flgD': 'N', 'gltA': 'N', 'sucD': 'N', 'tnaA': 'N', 'ygcE': 'N', 'yhdM': 'N', 'ibpB': 'N', 'yfaD': 'N', 'hupB': 'N', 'pspA': 'N', 'asnA': 'N', 'atpD': 'N', 'nmpC': 'N', 'icdA': 'N', 'lacA': 'N', 'yheI': 'N', 'aceB': 'N', 'lacY': 'N', 'b1963': 'N', 'dnaK': 'N', 'folK': 'N', 'ycgX': 'N', 'lacZ': 'N', 'nuoM': 'N', 'dnaG': 'N', 'b1583': 'N', 'mopB': 'N', 'yaeM': 'N', 'ftsJ': 'N'}\n"
     ]
    },
    {
     "name": "stdout",
     "output_type": "stream",
     "text": [
      "F1-score for the model skeleton:  0.8461538461538461\n"
     ]
    }
   ],
   "source": [
    "# Learning the continuous variable ecoli model back\n",
    "\n",
    "est = GES(data=ecoli_samples)\n",
    "estimated_model = est.estimate(scoring_method=\"bic-g\")\n",
    "get_f1_score(estimated_model, ecoli_model)"
   ]
  },
  {
   "cell_type": "markdown",
   "metadata": {},
   "source": [
    "## 4. Expert In Loop Algorithm\n",
    "\n",
    "Please refer to the following blogpost for more details: https://medium.com/gopenai/llms-for-causal-discovery-745e2cba0b59"
   ]
  }
 ],
 "metadata": {
  "kernelspec": {
   "display_name": "Python 3",
   "language": "python",
   "name": "python3"
  },
  "language_info": {
   "codemirror_mode": {
    "name": "ipython",
    "version": 3
   },
   "file_extension": ".py",
   "mimetype": "text/x-python",
   "name": "python",
   "nbconvert_exporter": "python",
   "pygments_lexer": "ipython3",
   "version": "3.13.0"
  }
 },
 "nbformat": 4,
 "nbformat_minor": 4
}
